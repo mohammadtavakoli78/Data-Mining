{
 "cells": [
  {
   "cell_type": "code",
   "execution_count": 83,
   "metadata": {
    "id": "GsCNC8gyXXPw"
   },
   "outputs": [],
   "source": [
    "import pandas as pd\n",
    "import numpy as np\n",
    "import matplotlib.pyplot as plt\n",
    "from sklearn.model_selection import train_test_split\n",
    "from sklearn.metrics import classification_report, confusion_matrix\n",
    "import tensorflow as tf\n",
    "from tensorflow.keras.datasets import fashion_mnist\n",
    "from tensorflow.keras.utils import to_categorical\n",
    "from sklearn.metrics import confusion_matrix, classification_report"
   ]
  },
  {
   "cell_type": "code",
   "execution_count": 70,
   "metadata": {
    "id": "fgBnZFoNXync"
   },
   "outputs": [],
   "source": [
    "(x_train, y_train), (x_test, y_test) = fashion_mnist.load_data()"
   ]
  },
  {
   "cell_type": "code",
   "execution_count": 71,
   "metadata": {
    "id": "IGIx5ep2zzAE"
   },
   "outputs": [],
   "source": [
    "y_test = to_categorical(y_test)\n",
    "y_train = to_categorical(y_train)"
   ]
  },
  {
   "cell_type": "code",
   "execution_count": null,
   "metadata": {
    "colab": {
     "base_uri": "https://localhost:8080/",
     "height": 0
    },
    "id": "hIP0ELNrY33s",
    "outputId": "bf251d52-515c-4bc8-8194-0f91d156a54e"
   },
   "outputs": [],
   "source": [
    "cnn = tf.keras.models.Sequential()\n",
    "cnn.add(tf.keras.layers.Conv2D(filters=32, kernel_size=3, activation='relu', input_shape=[28, 28, 1]))\n",
    "cnn.add(tf.keras.layers.MaxPool2D(pool_size=2, strides=2))\n",
    "cnn.add(tf.keras.layers.Dropout(0.25))\n",
    "cnn.add(tf.keras.layers.Conv2D(filters=32, kernel_size=3, activation='relu'))\n",
    "cnn.add(tf.keras.layers.MaxPool2D(pool_size=2, strides=2))\n",
    "cnn.add(tf.keras.layers.Dropout(0.25))\n",
    "cnn.add(tf.keras.layers.Flatten())\n",
    "cnn.add(tf.keras.layers.Dense(units=128, activation='relu'))\n",
    "cnn.add(tf.keras.layers.Dropout(0.25))\n",
    "cnn.add(tf.keras.layers.Dense(units=10, activation='softmax'))\n",
    "\n",
    "cnn.compile(optimizer='adam', loss='categorical_crossentropy', metrics=['accuracy'])\n",
    "model = cnn.fit(x_train,y_train, batch_size=32, epochs=25)"
   ]
  },
  {
   "cell_type": "code",
   "execution_count": 79,
   "metadata": {
    "id": "AFbF6kCF8EAs"
   },
   "outputs": [],
   "source": [
    "y_pred = cnn.predict(x_test)"
   ]
  },
  {
   "cell_type": "code",
   "execution_count": 81,
   "metadata": {
    "colab": {
     "base_uri": "https://localhost:8080/",
     "height": 573
    },
    "id": "7rNNDyTa8P_E",
    "outputId": "a5663b64-dafd-464a-96f2-42f19ea22b11"
   },
   "outputs": [
    {
     "data": {
      "image/png": "[encoded data removed]",
      "text/plain": [
       "<Figure size 432x288 with 1 Axes>"
      ]
     },
     "metadata": {
      "needs_background": "light"
     },
     "output_type": "display_data"
    },
    {
     "data": {
      "image/png": "[encoded data removed]",
      "text/plain": [
       "<Figure size 432x288 with 1 Axes>"
      ]
     },
     "metadata": {
      "needs_background": "light"
     },
     "output_type": "display_data"
    }
   ],
   "source": [
    "plt.plot(model.epoch, model.history[\"loss\"], 'g', label='Training loss')\n",
    "plt.title('Training loss')\n",
    "plt.xlabel('Epochs')\n",
    "plt.ylabel('Loss')\n",
    "plt.legend()\n",
    "plt.show()\n",
    "plt.plot(model.epoch, model.history[\"accuracy\"], 'g', label='Training accuracy')\n",
    "plt.title('Training accuracy')\n",
    "plt.xlabel('Epochs')\n",
    "plt.ylabel('Accuracy')\n",
    "plt.legend()\n",
    "plt.show()"
   ]
  },
  {
   "cell_type": "code",
   "execution_count": 84,
   "metadata": {
    "colab": {
     "base_uri": "https://localhost:8080/",
     "height": 0
    },
    "id": "VmOM1dw18sBj",
    "outputId": "42e36564-2a67-4af9-ae13-3fea2bcae69b"
   },
   "outputs": [
    {
     "name": "stdout",
     "output_type": "stream",
     "text": [
      "0.8989\n"
     ]
    }
   ],
   "source": [
    "counter = 0\n",
    "correct = 0\n",
    "for i in range(len(y_pred)):\n",
    "  if (np.argmax(y_pred[i]) == np.argmax(y_test[i])):\n",
    "    correct += 1\n",
    "  counter += 1\n",
    "print(correct/counter)"
   ]
  },
  {
   "cell_type": "code",
   "execution_count": 94,
   "metadata": {
    "colab": {
     "base_uri": "https://localhost:8080/"
    },
    "id": "WcRZbkXC9IvT",
    "outputId": "2fa02a37-8de7-44e2-cdeb-d153c67ff4df"
   },
   "outputs": [
    {
     "data": {
      "text/plain": [
       "array([[859,   0,  18,  11,   1,   1, 105,   0,   5,   0],\n",
       "       [  0, 974,   0,  17,   4,   0,   2,   0,   3,   0],\n",
       "       [ 17,   0, 876,   9,  51,   0,  47,   0,   0,   0],\n",
       "       [ 17,   2,   8, 924,  23,   0,  25,   0,   1,   0],\n",
       "       [  2,   0, 101,  34, 801,   0,  61,   0,   1,   0],\n",
       "       [  0,   0,   0,   0,   0, 978,   0,  14,   0,   8],\n",
       "       [122,   1,  99,  21,  86,   0, 667,   0,   4,   0],\n",
       "       [  0,   0,   0,   0,   0,  10,   0, 974,   0,  16],\n",
       "       [  1,   0,   4,   5,   4,   2,   2,   0, 981,   1],\n",
       "       [  1,   0,   0,   1,   0,   4,   0,  39,   0, 955]])"
      ]
     },
     "execution_count": 94,
     "metadata": {},
     "output_type": "execute_result"
    }
   ],
   "source": [
    "confusion_matrix(y_test.argmax(axis=1), y_pred.argmax(axis=1))"
   ]
  },
  {
   "cell_type": "code",
   "execution_count": 101,
   "metadata": {
    "colab": {
     "base_uri": "https://localhost:8080/"
    },
    "id": "s3zsAVneCACH",
    "outputId": "157f5859-d66c-4a80-e41d-efa072f9af40"
   },
   "outputs": [
    {
     "name": "stdout",
     "output_type": "stream",
     "text": [
      "              precision    recall  f1-score   support\n",
      "\n",
      "     class 0       0.84      0.86      0.85      1000\n",
      "     class 1       1.00      0.97      0.99      1000\n",
      "     class 2       0.79      0.88      0.83      1000\n",
      "     class 3       0.90      0.92      0.91      1000\n",
      "     class 4       0.83      0.80      0.81      1000\n",
      "     class 5       0.98      0.98      0.98      1000\n",
      "     class 6       0.73      0.67      0.70      1000\n",
      "     class 7       0.95      0.97      0.96      1000\n",
      "     class 8       0.99      0.98      0.98      1000\n",
      "     class 9       0.97      0.95      0.96      1000\n",
      "\n",
      "    accuracy                           0.90     10000\n",
      "   macro avg       0.90      0.90      0.90     10000\n",
      "weighted avg       0.90      0.90      0.90     10000\n",
      "\n"
     ]
    }
   ],
   "source": [
    "target_names = ['class 0', 'class 1', 'class 2', 'class 3', 'class 4', 'class 5', 'class 6', 'class 7', 'class 8', 'class 9']\n",
    "print(classification_report(y_test.argmax(axis=1), y_pred.argmax(axis=1), target_names=target_names))"
   ]
  }
 ],
 "metadata": {
  "colab": {
   "collapsed_sections": [],
   "name": "DM-HW2-2.ipynb",
   "provenance": [],
   "toc_visible": true
  },
  "kernelspec": {
   "display_name": "Python 3 (ipykernel)",
   "language": "python",
   "name": "python3"
  },
  "language_info": {
   "codemirror_mode": {
    "name": "ipython",
    "version": 3
   },
   "file_extension": ".py",
   "mimetype": "text/x-python",
   "name": "python",
   "nbconvert_exporter": "python",
   "pygments_lexer": "ipython3",
   "version": "3.7.2"
  }
 },
 "nbformat": 4,
 "nbformat_minor": 1
}
